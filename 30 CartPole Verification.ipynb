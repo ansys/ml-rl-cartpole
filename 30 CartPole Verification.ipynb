{
 "cells": [
  {
   "cell_type": "markdown",
   "metadata": {},
   "source": [
    "# CartPole Test   "
   ]
  },
  {
   "cell_type": "code",
   "execution_count": 1,
   "metadata": {},
   "outputs": [
    {
     "name": "stdout",
     "output_type": "stream",
     "text": [
      "Processing ./pyansys_rl\n",
      "Processing ./pyansys_gym\n",
      "Requirement already satisfied: gym==0.10.9 in /home/jovyan/.local/lib/python3.7/site-packages (from pyansys-rl==0.0.1) (0.10.9)\n",
      "Requirement already satisfied: keras==2.2.4 in /home/jovyan/.local/lib/python3.7/site-packages (from pyansys-rl==0.0.1) (2.2.4)\n",
      "Requirement already satisfied: numpy>=1.16 in /opt/conda/lib/python3.7/site-packages (from pyansys-rl==0.0.1) (1.18.4)\n",
      "Requirement already satisfied: tensorflow==1.13.1 in /home/jovyan/.local/lib/python3.7/site-packages (from pyansys-rl==0.0.1) (1.13.1)\n",
      "Requirement already satisfied: scipy in /opt/conda/lib/python3.7/site-packages (from gym==0.10.9->pyansys-rl==0.0.1) (1.4.1)\n",
      "Requirement already satisfied: requests>=2.0 in /opt/conda/lib/python3.7/site-packages (from gym==0.10.9->pyansys-rl==0.0.1) (2.23.0)\n",
      "Requirement already satisfied: pyglet>=1.2.0 in /opt/conda/lib/python3.7/site-packages (from gym==0.10.9->pyansys-rl==0.0.1) (1.5.0)\n",
      "Requirement already satisfied: six in /opt/conda/lib/python3.7/site-packages (from gym==0.10.9->pyansys-rl==0.0.1) (1.15.0)\n",
      "Requirement already satisfied: pyyaml in /opt/conda/lib/python3.7/site-packages (from keras==2.2.4->pyansys-rl==0.0.1) (5.3.1)\n",
      "Requirement already satisfied: h5py in /opt/conda/lib/python3.7/site-packages (from keras==2.2.4->pyansys-rl==0.0.1) (2.10.0)\n",
      "Requirement already satisfied: keras-preprocessing>=1.0.5 in /opt/conda/lib/python3.7/site-packages (from keras==2.2.4->pyansys-rl==0.0.1) (1.1.2)\n",
      "Requirement already satisfied: keras-applications>=1.0.6 in /home/jovyan/.local/lib/python3.7/site-packages (from keras==2.2.4->pyansys-rl==0.0.1) (1.0.8)\n",
      "Requirement already satisfied: absl-py>=0.1.6 in /opt/conda/lib/python3.7/site-packages (from tensorflow==1.13.1->pyansys-rl==0.0.1) (0.11.0)\n",
      "Requirement already satisfied: gast>=0.2.0 in /opt/conda/lib/python3.7/site-packages (from tensorflow==1.13.1->pyansys-rl==0.0.1) (0.3.3)\n",
      "Requirement already satisfied: wheel>=0.26 in /opt/conda/lib/python3.7/site-packages (from tensorflow==1.13.1->pyansys-rl==0.0.1) (0.34.2)\n",
      "Requirement already satisfied: tensorboard<1.14.0,>=1.13.0 in /home/jovyan/.local/lib/python3.7/site-packages (from tensorflow==1.13.1->pyansys-rl==0.0.1) (1.13.1)\n",
      "Requirement already satisfied: astor>=0.6.0 in /home/jovyan/.local/lib/python3.7/site-packages (from tensorflow==1.13.1->pyansys-rl==0.0.1) (0.8.1)\n",
      "Requirement already satisfied: termcolor>=1.1.0 in /opt/conda/lib/python3.7/site-packages (from tensorflow==1.13.1->pyansys-rl==0.0.1) (1.1.0)\n",
      "Requirement already satisfied: grpcio>=1.8.6 in /home/jovyan/.local/lib/python3.7/site-packages (from tensorflow==1.13.1->pyansys-rl==0.0.1) (1.33.1)\n",
      "Requirement already satisfied: tensorflow-estimator<1.14.0rc0,>=1.13.0 in /home/jovyan/.local/lib/python3.7/site-packages (from tensorflow==1.13.1->pyansys-rl==0.0.1) (1.13.0)\n",
      "Requirement already satisfied: protobuf>=3.6.1 in /opt/conda/lib/python3.7/site-packages (from tensorflow==1.13.1->pyansys-rl==0.0.1) (3.13.0)\n",
      "Requirement already satisfied: idna<3,>=2.5 in /opt/conda/lib/python3.7/site-packages (from requests>=2.0->gym==0.10.9->pyansys-rl==0.0.1) (2.9)\n",
      "Requirement already satisfied: chardet<4,>=3.0.2 in /opt/conda/lib/python3.7/site-packages (from requests>=2.0->gym==0.10.9->pyansys-rl==0.0.1) (3.0.4)\n",
      "Requirement already satisfied: certifi>=2017.4.17 in /opt/conda/lib/python3.7/site-packages (from requests>=2.0->gym==0.10.9->pyansys-rl==0.0.1) (2020.4.5.1)\n",
      "Requirement already satisfied: urllib3!=1.25.0,!=1.25.1,<1.26,>=1.21.1 in /opt/conda/lib/python3.7/site-packages (from requests>=2.0->gym==0.10.9->pyansys-rl==0.0.1) (1.25.9)\n",
      "Requirement already satisfied: future in /opt/conda/lib/python3.7/site-packages (from pyglet>=1.2.0->gym==0.10.9->pyansys-rl==0.0.1) (0.18.2)\n",
      "Requirement already satisfied: markdown>=2.6.8 in /opt/conda/lib/python3.7/site-packages (from tensorboard<1.14.0,>=1.13.0->tensorflow==1.13.1->pyansys-rl==0.0.1) (3.3.3)\n",
      "Requirement already satisfied: werkzeug>=0.11.15 in /opt/conda/lib/python3.7/site-packages (from tensorboard<1.14.0,>=1.13.0->tensorflow==1.13.1->pyansys-rl==0.0.1) (1.0.1)\n",
      "Requirement already satisfied: mock>=2.0.0 in /home/jovyan/.local/lib/python3.7/site-packages (from tensorflow-estimator<1.14.0rc0,>=1.13.0->tensorflow==1.13.1->pyansys-rl==0.0.1) (4.0.2)\n",
      "Requirement already satisfied: setuptools in /opt/conda/lib/python3.7/site-packages (from protobuf>=3.6.1->tensorflow==1.13.1->pyansys-rl==0.0.1) (46.4.0.post20200518)\n",
      "Requirement already satisfied: importlib-metadata; python_version < \"3.8\" in /opt/conda/lib/python3.7/site-packages (from markdown>=2.6.8->tensorboard<1.14.0,>=1.13.0->tensorflow==1.13.1->pyansys-rl==0.0.1) (1.6.0)\n",
      "Requirement already satisfied: zipp>=0.5 in /opt/conda/lib/python3.7/site-packages (from importlib-metadata; python_version < \"3.8\"->markdown>=2.6.8->tensorboard<1.14.0,>=1.13.0->tensorflow==1.13.1->pyansys-rl==0.0.1) (3.1.0)\n",
      "Building wheels for collected packages: pyansys-rl, pyansys-cartpole\n",
      "  Building wheel for pyansys-rl (setup.py) ... \u001b[?25ldone\n",
      "\u001b[?25h  Created wheel for pyansys-rl: filename=pyansys_rl-0.0.1-py3-none-any.whl size=7071 sha256=a9bd0f5c7a73eef1119ce50245e43dd6ac2fcd5784001965d402f51291953f00\n",
      "  Stored in directory: /tmp/pip-ephem-wheel-cache-eneeb3gv/wheels/ab/f3/ff/bebff563baa460ac7ab74ef83360389d4ae6f5a05651e162f3\n",
      "  Building wheel for pyansys-cartpole (setup.py) ... \u001b[?25ldone\n",
      "\u001b[?25h  Created wheel for pyansys-cartpole: filename=pyansys_cartpole-0.0.1-py3-none-any.whl size=10366 sha256=c4c078ac3120cf716c7ca521eb5e3d02e54f928a3f5b520de338cca7fd589076\n",
      "  Stored in directory: /tmp/pip-ephem-wheel-cache-eneeb3gv/wheels/80/64/72/e71acde093f23c47c6e87f82f5841c0c889c0fcfdb32351491\n",
      "Successfully built pyansys-rl pyansys-cartpole\n",
      "Installing collected packages: pyansys-rl, pyansys-cartpole\n",
      "  Attempting uninstall: pyansys-rl\n",
      "    Found existing installation: pyansys-rl 0.0.1\n",
      "    Uninstalling pyansys-rl-0.0.1:\n",
      "      Successfully uninstalled pyansys-rl-0.0.1\n",
      "  Attempting uninstall: pyansys-cartpole\n",
      "    Found existing installation: pyansys-cartpole 0.0.1\n",
      "    Uninstalling pyansys-cartpole-0.0.1:\n",
      "      Successfully uninstalled pyansys-cartpole-0.0.1\n",
      "Successfully installed pyansys-cartpole-0.0.1 pyansys-rl-0.0.1\n"
     ]
    }
   ],
   "source": [
    "!pip install ./pyansys_rl ./pyansys_gym"
   ]
  },
  {
   "cell_type": "code",
   "execution_count": 2,
   "metadata": {},
   "outputs": [
    {
     "name": "stderr",
     "output_type": "stream",
     "text": [
      "Using TensorFlow backend.\n",
      "/home/jovyan/.local/lib/python3.7/site-packages/tensorflow/python/framework/dtypes.py:526: FutureWarning: Passing (type, 1) or '1type' as a synonym of type is deprecated; in a future version of numpy, it will be understood as (type, (1,)) / '(1,)type'.\n",
      "  _np_qint8 = np.dtype([(\"qint8\", np.int8, 1)])\n",
      "/home/jovyan/.local/lib/python3.7/site-packages/tensorflow/python/framework/dtypes.py:527: FutureWarning: Passing (type, 1) or '1type' as a synonym of type is deprecated; in a future version of numpy, it will be understood as (type, (1,)) / '(1,)type'.\n",
      "  _np_quint8 = np.dtype([(\"quint8\", np.uint8, 1)])\n",
      "/home/jovyan/.local/lib/python3.7/site-packages/tensorflow/python/framework/dtypes.py:528: FutureWarning: Passing (type, 1) or '1type' as a synonym of type is deprecated; in a future version of numpy, it will be understood as (type, (1,)) / '(1,)type'.\n",
      "  _np_qint16 = np.dtype([(\"qint16\", np.int16, 1)])\n",
      "/home/jovyan/.local/lib/python3.7/site-packages/tensorflow/python/framework/dtypes.py:529: FutureWarning: Passing (type, 1) or '1type' as a synonym of type is deprecated; in a future version of numpy, it will be understood as (type, (1,)) / '(1,)type'.\n",
      "  _np_quint16 = np.dtype([(\"quint16\", np.uint16, 1)])\n",
      "/home/jovyan/.local/lib/python3.7/site-packages/tensorflow/python/framework/dtypes.py:530: FutureWarning: Passing (type, 1) or '1type' as a synonym of type is deprecated; in a future version of numpy, it will be understood as (type, (1,)) / '(1,)type'.\n",
      "  _np_qint32 = np.dtype([(\"qint32\", np.int32, 1)])\n",
      "/home/jovyan/.local/lib/python3.7/site-packages/tensorflow/python/framework/dtypes.py:535: FutureWarning: Passing (type, 1) or '1type' as a synonym of type is deprecated; in a future version of numpy, it will be understood as (type, (1,)) / '(1,)type'.\n",
      "  np_resource = np.dtype([(\"resource\", np.ubyte, 1)])\n"
     ]
    }
   ],
   "source": [
    "import os\n",
    "\n",
    "import gym\n",
    "import numpy as np\n",
    "\n",
    "import pyansys_cartpole\n",
    "from pyansys_dqn import dqn, dqn_runner, qn_keras\n",
    "from pyansys_dqn.test_agents import RandomAgent, TrainedAgent"
   ]
  },
  {
   "cell_type": "code",
   "execution_count": 3,
   "metadata": {},
   "outputs": [],
   "source": [
    "np.set_printoptions(precision=4, suppress=True)"
   ]
  },
  {
   "cell_type": "code",
   "execution_count": 4,
   "metadata": {},
   "outputs": [
    {
     "name": "stderr",
     "output_type": "stream",
     "text": [
      "/home/jovyan/.local/lib/python3.7/site-packages/gym/envs/registration.py:14: PkgResourcesDeprecationWarning: Parameters to load are deprecated.  Call .resolve and .require separately.\n",
      "  result = entry_point.load(False)\n"
     ]
    }
   ],
   "source": [
    "env_name = 'pyansys-CartPole-v0'\n",
    "env = gym.make(env_name)"
   ]
  },
  {
   "cell_type": "markdown",
   "metadata": {},
   "source": [
    "## Random Agent\n",
    "Here we create a simple test agent that behaves randomly and thus is not likely to succeed at the balancing task"
   ]
  },
  {
   "cell_type": "code",
   "execution_count": 5,
   "metadata": {},
   "outputs": [],
   "source": [
    "agent = RandomAgent(env.action_space.n)"
   ]
  },
  {
   "cell_type": "code",
   "execution_count": 6,
   "metadata": {},
   "outputs": [
    {
     "name": "stdout",
     "output_type": "stream",
     "text": [
      "[-0.0362  0.0226  2.1423  0.    ]\n"
     ]
    }
   ],
   "source": [
    "s = env.reset()\n",
    "print(s)"
   ]
  },
  {
   "cell_type": "markdown",
   "metadata": {},
   "source": [
    "Below, notice how we inform the agent about each state transition with `agent.start_state(s)` or `agent.next_reading(s, r, done)` and then ask it to recommend an action with `agent.next_action()`.  We inform the environment this recommendation by feeding the method `env.step(a)`.  We do not expect these recommendations to be good because this agent selects at random from the choices 'left' and 'right', with equal probability.  A control algorithm that just flips a coin to select how to behave is usually not effective.  Thus, the pole should not stay balanced for long."
   ]
  },
  {
   "cell_type": "code",
   "execution_count": 7,
   "metadata": {},
   "outputs": [
    {
     "name": "stdout",
     "output_type": "stream",
     "text": [
      "---> [-0.0351  0.1073  2.0279  0.0244]\n",
      "---> [-0.031   0.3016  1.6733  0.0944]\n",
      "<--- [-0.0252  0.2811  1.2656  0.0994]\n",
      "<--- [-0.0215  0.0868  1.0034  0.0075]\n",
      "---> [-0.0196  0.1064  0.7751  0.0149]\n",
      "---> [-0.0155  0.3     0.4625  0.0934]\n",
      "<--- [-0.0097  0.2807  0.1014  0.0768]\n",
      "<--- [-0.006   0.0865 -0.1847  0.0211]\n",
      "---> [-0.0041  0.1058 -0.3843  0.0033]\n",
      "---> [-0.0001  0.3005 -0.689   0.0854]\n",
      "<--- [ 0.0058  0.2811 -1.0856  0.0859]\n",
      "<--- [ 0.0094  0.087  -1.3628  0.0028]\n",
      "<--- [ 0.0092 -0.108  -1.35    0.0523]\n",
      "---> [ 0.0073 -0.0879 -1.2011  0.0463]\n",
      "<--- [ 0.0053 -0.1079 -1.0063  0.0273]\n",
      "<--- [ 0.0012 -0.3025 -0.5993  0.0973]\n",
      "<--- [-0.0068 -0.4969  0.0509  0.1906]\n",
      "---> [-0.0165 -0.4779  0.8283  0.1678]\n",
      "<--- [-0.0263 -0.4985  1.7263  0.1603]\n",
      "---> [-0.0361 -0.478   2.5636  0.2085]\n",
      "<--- [-0.0458 -0.4995  3.4062  0.1945]\n",
      "<--- [-0.0578 -0.6956  4.5753  0.2757]\n",
      "---> [-0.0715 -0.6752  5.7355  0.3699]\n",
      "<--- [-0.0852 -0.6991  7.0174  0.3186]\n",
      "<--- [-0.1012 -0.8945  8.6723  0.4648]\n",
      "---> [-0.1189 -0.8749 10.2424  0.5869]\n",
      "<--- [-0.1366 -0.9005 12.0435  0.5295]\n",
      "total timesteps: 27\n"
     ]
    }
   ],
   "source": [
    "agent.start_state(s)\n",
    "done, r_tot = False, 0\n",
    "while not done:\n",
    "    a = agent.next_action()\n",
    "    s, r, done, _ = env.step(a)\n",
    "    print('--->' if a else '<---', s)\n",
    "    agent.next_reading(s, r, done, False)\n",
    "    r_tot += r\n",
    "print('total timesteps:', r_tot)"
   ]
  },
  {
   "cell_type": "markdown",
   "metadata": {},
   "source": [
    "## Trained Agent\n",
    "Now we create an agent that has been trained, i.e., that refers to a successful neural networks in order to decide how best to act. It is thus much more likely to perform well and balance the pole for a noticeably greater number of steps... all this despite having a random starting point for the system!"
   ]
  },
  {
   "cell_type": "code",
   "execution_count": 8,
   "metadata": {},
   "outputs": [
    {
     "name": "stdout",
     "output_type": "stream",
     "text": [
      "WARNING:tensorflow:From /home/jovyan/.local/lib/python3.7/site-packages/tensorflow/python/framework/op_def_library.py:263: colocate_with (from tensorflow.python.framework.ops) is deprecated and will be removed in a future version.\n",
      "Instructions for updating:\n",
      "Colocations handled automatically by placer.\n"
     ]
    }
   ],
   "source": [
    "output_path = 'successful_runs/pyansys_cartpole'\n",
    "output_name = 'pyansys_cartpole_00'\n",
    "n_actions = 2\n",
    "agent = TrainedAgent(output_path, output_name, env.action_space.n, env.observation_space.shape)"
   ]
  },
  {
   "cell_type": "code",
   "execution_count": 9,
   "metadata": {},
   "outputs": [
    {
     "name": "stdout",
     "output_type": "stream",
     "text": [
      "[ 0.01   -0.0067 -2.8594  0.    ]\n"
     ]
    }
   ],
   "source": [
    "s = env.reset()\n",
    "print(s)"
   ]
  },
  {
   "cell_type": "markdown",
   "metadata": {},
   "source": [
    "Below, notice how we inform the agent about each state transition with `agent.start_state(s)` or `agent.next_reading(s, r, done)` and then ask it to recommend an action with `agent.next_action()`.  We follow its recommendation by feeding it into the environment in `env.step(a)`.  The recommendations should be pretty good because they stem from neural networks that store the information resulting from successful training and the pole should stay up longer, hopefully for the entirety of the episode (200 steps). "
   ]
  },
  {
   "cell_type": "code",
   "execution_count": 10,
   "metadata": {},
   "outputs": [
    {
     "name": "stdout",
     "output_type": "stream",
     "text": [
      "<--- [ 0.009  -0.1072 -2.7467  0.0229]\n",
      "<--- [ 0.0049 -0.3013 -2.3973  0.0896]\n",
      "<--- [-0.0031 -0.4958 -1.7606  0.1498]\n",
      "---> [-0.0128 -0.4758 -1.0122  0.1413]\n",
      "---> [-0.0204 -0.2809 -0.4339  0.059 ]\n",
      "---> [-0.024  -0.0859 -0.1443  0.0179]\n",
      "---> [-0.0238  0.1098 -0.2224  0.0689]\n",
      "<--- [-0.0218  0.0894 -0.4055  0.0949]\n",
      "<--- [-0.022  -0.1049 -0.3964  0.0059]\n",
      "---> [-0.0238 -0.0843 -0.3911  0.0178]\n",
      "---> [-0.0236  0.1091 -0.4947  0.1114]\n",
      "<--- [-0.0216  0.09   -0.608   0.0994]\n",
      "<--- [-0.0217 -0.1036 -0.6867  0.01  ]\n",
      "<--- [-0.0258 -0.2999 -0.4412  0.0337]\n",
      "---> [-0.0316 -0.2795 -0.012   0.0514]\n",
      "---> [-0.0352 -0.0843  0.1596  0.0117]\n",
      "---> [-0.035   0.1096  0.0977  0.121 ]\n",
      "<--- [-0.033   0.0908 -0.0703  0.0875]\n",
      "<--- [-0.0331 -0.104  -0.1491  0.012 ]\n",
      "---> [-0.035  -0.0845 -0.1138  0.0193]\n",
      "---> [-0.0347  0.1104 -0.2228  0.0985]\n",
      "<--- [-0.0327  0.0904 -0.4004  0.1129]\n",
      "<--- [-0.0328 -0.1036 -0.4398  0.0128]\n",
      "---> [-0.0347 -0.0837 -0.4568  0.0122]\n",
      "---> [-0.0344  0.1102 -0.5646  0.125 ]\n",
      "<--- [-0.0324  0.0911 -0.7272  0.1136]\n",
      "<--- [-0.0325 -0.1028 -0.8211  0.0184]\n",
      "<--- [-0.0366 -0.2986 -0.5925  0.0195]\n",
      "---> [-0.0423 -0.2783 -0.2108  0.032 ]\n",
      "---> [-0.0459 -0.0834 -0.0529  0.0403]\n",
      "---> [-0.0457  0.111  -0.1453  0.1376]\n",
      "<--- [-0.0436  0.092  -0.3566  0.1132]\n",
      "<--- [-0.0437 -0.1027 -0.4561  0.0414]\n",
      "---> [-0.0456 -0.0829 -0.4601  0.0409]\n",
      "<--- [-0.0475 -0.1034 -0.3748  0.0719]\n",
      "---> [-0.0493 -0.0825 -0.319   0.0423]\n",
      "---> [-0.049   0.1125 -0.5395  0.1128]\n",
      "<--- [-0.047   0.0914 -0.7338  0.1733]\n",
      "<--- [-0.0471 -0.1013 -0.7923  0.0324]\n",
      "<--- [-0.0511 -0.2967 -0.671   0.0152]\n",
      "---> [-0.0568 -0.2779 -0.2955  0.0223]\n",
      "---> [-0.0604 -0.0815 -0.1352  0.048 ]\n",
      "---> [-0.0601  0.1125 -0.3239  0.1565]\n",
      "<--- [-0.058   0.0928 -0.5291  0.161 ]\n",
      "<--- [-0.0581 -0.1007 -0.657   0.0498]\n",
      "<--- [-0.0621 -0.2966 -0.5021  0.0134]\n",
      "---> [-0.0678 -0.2767 -0.152   0.0124]\n",
      "---> [-0.0714 -0.0813 -0.0399  0.0685]\n",
      "---> [-0.0711  0.1129 -0.1942  0.1737]\n",
      "<--- [-0.069   0.0938 -0.44    0.1542]\n",
      "<--- [-0.0691 -0.1006 -0.5893  0.0711]\n",
      "<--- [-0.0731 -0.2962 -0.4145  0.0226]\n",
      "---> [-0.0788 -0.2759 -0.1036  0.0095]\n",
      "---> [-0.0823 -0.0812  0.0006  0.0894]\n",
      "---> [-0.082   0.1134 -0.145   0.177 ]\n",
      "<--- [-0.08    0.0944 -0.4262  0.1572]\n",
      "<--- [-0.08   -0.1005 -0.5758  0.0884]\n",
      "<--- [-0.084  -0.2955 -0.4015  0.0242]\n",
      "---> [-0.0897 -0.2755 -0.1219  0.0161]\n",
      "---> [-0.0932 -0.081  -0.0129  0.104 ]\n",
      "---> [-0.0929  0.114  -0.1693  0.1785]\n",
      "<--- [-0.0908  0.0948 -0.4738  0.1668]\n",
      "<--- [-0.0909 -0.1001 -0.6207  0.1008]\n",
      "<--- [-0.0948 -0.2949 -0.4626  0.0271]\n",
      "---> [-0.1005 -0.2751 -0.2014  0.0283]\n",
      "---> [-0.1041 -0.0805 -0.0935  0.1146]\n",
      "---> [-0.1037  0.1147 -0.2696  0.1844]\n",
      "<--- [-0.1017  0.0952 -0.5897  0.1805]\n",
      "<--- [-0.1017 -0.0996 -0.7424  0.1114]\n",
      "<--- [-0.1056 -0.2942 -0.6072  0.0361]\n",
      "---> [-0.1113 -0.2745 -0.36    0.0437]\n",
      "---> [-0.1149 -0.0798 -0.2647  0.1263]\n",
      "<--- [-0.1167 -0.0998 -0.2267  0.1385]\n",
      "<--- [-0.1206 -0.2938 -0.0618  0.0368]\n",
      "---> [-0.1263 -0.274   0.1361  0.0352]\n",
      "---> [-0.1298 -0.0802  0.2456  0.1441]\n",
      "---> [-0.1295  0.1156  0.0634  0.1855]\n",
      "<--- [-0.1273  0.0958 -0.3016  0.1901]\n",
      "<--- [-0.1274 -0.0994 -0.4448  0.1309]\n",
      "<--- [-0.1313 -0.2935 -0.3205  0.0332]\n",
      "---> [-0.137  -0.2742 -0.1038  0.0534]\n",
      "---> [-0.1405 -0.0797  0.0071  0.137 ]\n",
      "<--- [-0.1423 -0.0993  0.0297  0.1339]\n",
      "---> [-0.1441 -0.0786 -0.0583  0.1032]\n",
      "<--- [-0.1459 -0.0995 -0.1076  0.1414]\n",
      "<--- [-0.1498 -0.2943  0.1195  0.0672]\n",
      "---> [-0.1555 -0.273   0.304   0.0096]\n",
      "---> [-0.159  -0.0804  0.3635  0.1564]\n",
      "---> [-0.1587  0.1153  0.2366  0.2003]\n",
      "<--- [-0.1566  0.0965 -0.1542  0.1678]\n",
      "<--- [-0.1566 -0.0998 -0.3218  0.1461]\n",
      "<--- [-0.1605 -0.2936 -0.1495  0.0356]\n",
      "---> [-0.1662 -0.2738  0.034   0.0366]\n",
      "---> [-0.1697 -0.0802  0.1449  0.1501]\n",
      "<--- [-0.1715 -0.0993  0.2016  0.1283]\n",
      "---> [-0.1733 -0.0785  0.084   0.0905]\n",
      "<--- [-0.1751 -0.1001  0.0508  0.1509]\n",
      "<--- [-0.179  -0.2944  0.2994  0.0552]\n",
      "---> [-0.1847 -0.2732  0.4642  0.0022]\n",
      "---> [-0.1883 -0.081   0.5478  0.1598]\n",
      "---> [-0.1879  0.1152  0.4351  0.1849]\n",
      "<--- [-0.1858  0.0961  0.035   0.1604]\n",
      "<--- [-0.1858 -0.1005 -0.1029  0.1429]\n",
      "<--- [-0.1898 -0.2939  0.0788  0.0181]\n",
      "---> [-0.1955 -0.2745  0.2655  0.0283]\n",
      "---> [-0.199  -0.081   0.4081  0.1405]\n",
      "---> [-0.1987  0.1154  0.2357  0.1672]\n",
      "<--- [-0.1966  0.0951 -0.129   0.1821]\n",
      "<--- [-0.1966 -0.1001 -0.2367  0.1223]\n",
      "<--- [-0.2006 -0.294  -0.1067  0.0131]\n",
      "---> [-0.2063 -0.2751  0.1251  0.0443]\n",
      "---> [-0.2098 -0.0805  0.2679  0.122 ]\n",
      "<--- [-0.2116 -0.1     0.3018  0.1127]\n",
      "---> [-0.2134 -0.0797  0.2373  0.0904]\n",
      "<--- [-0.2152 -0.1005  0.2217  0.1201]\n",
      "<--- [-0.2192 -0.2953  0.4657  0.0442]\n",
      "---> [-0.2249 -0.2744  0.6835  0.0103]\n",
      "---> [-0.2284 -0.0816  0.779   0.1296]\n",
      "---> [-0.2281  0.1139  0.678   0.1729]\n",
      "<--- [-0.226   0.0949  0.3306  0.1418]\n",
      "<--- [-0.2261 -0.1014  0.2032  0.1123]\n",
      "<--- [-0.2301 -0.2954  0.4143  0.0031]\n",
      "---> [-0.2358 -0.2758  0.6501  0.0036]\n",
      "---> [-0.2393 -0.0823  0.8107  0.1082]\n",
      "---> [-0.239   0.1136  0.6812  0.1452]\n",
      "<--- [-0.237   0.0935  0.366   0.147 ]\n",
      "<--- [-0.2371 -0.1018  0.2879  0.0867]\n",
      "<--- [-0.241  -0.2961  0.473   0.0184]\n",
      "---> [-0.2468 -0.2771  0.7588  0.0042]\n",
      "---> [-0.2504 -0.0827  0.9456  0.0798]\n",
      "---> [-0.2501  0.1127  0.8097  0.1288]\n",
      "<--- [-0.248   0.0923  0.5449  0.1396]\n",
      "<--- [-0.2481 -0.1025  0.4854  0.0559]\n",
      "---> [-0.25   -0.0821  0.4407  0.0264]\n",
      "<--- [-0.2518 -0.1039  0.5143  0.0866]\n",
      "---> [-0.2537 -0.0827  0.6113  0.037 ]\n",
      "---> [-0.2534  0.1124  0.3648  0.0917]\n",
      "<--- [-0.2514  0.0902  0.1929  0.1747]\n",
      "<--- [-0.2515 -0.1021  0.1758  0.0085]\n",
      "<--- [-0.2555 -0.2978  0.2949  0.0423]\n",
      "---> [-0.2612 -0.2797  0.7177  0.0082]\n",
      "---> [-0.2649 -0.083   0.9268  0.0081]\n",
      "---> [-0.2646  0.1106  0.7613  0.1191]\n",
      "<--- [-0.2626  0.0903  0.6274  0.1261]\n",
      "<--- [-0.2627 -0.103   0.559   0.006 ]\n",
      "---> [-0.2646 -0.0844  0.5291  0.0201]\n",
      "<--- [-0.2665 -0.1055  0.7102  0.059 ]\n",
      "---> [-0.2684 -0.0837  0.7931  0.017 ]\n",
      "---> [-0.2681  0.11    0.5937  0.0839]\n",
      "<--- [-0.2661  0.0887  0.5061  0.1336]\n",
      "<--- [-0.2663 -0.1036  0.4861  0.0377]\n",
      "<--- [-0.2703 -0.3003  0.6717  0.0594]\n",
      "---> [-0.2761 -0.2814  1.1659  0.0443]\n",
      "---> [-0.2798 -0.085   1.387   0.0355]\n",
      "---> [-0.2796  0.1079  1.3058  0.0897]\n",
      "<--- [-0.2776  0.0882  1.2339  0.0682]\n",
      "<--- [-0.2778 -0.1057  1.2019  0.0522]\n",
      "---> [-0.2797 -0.0874  1.2671  0.0235]\n",
      "---> [-0.2795  0.1071  1.2731  0.0508]\n",
      "<--- [-0.2776  0.0874  1.157   0.0319]\n",
      "<--- [-0.2778 -0.1078  1.1941  0.0478]\n",
      "---> [-0.2797 -0.088   1.312   0.066 ]\n",
      "---> [-0.2796  0.1059  1.2924  0.0256]\n",
      "<--- [-0.2776  0.0856  1.2534  0.0273]\n",
      "<--- [-0.2779 -0.1085  1.3191  0.0917]\n",
      "---> [-0.2798 -0.0895  1.4353  0.0845]\n",
      "---> [-0.2797  0.1042  1.4902  0.0102]\n",
      "<--- [-0.2778  0.0847  1.4702  0.0157]\n",
      "<--- [-0.2781 -0.1102  1.5547  0.1093]\n",
      "---> [-0.2801 -0.0911  1.7422  0.1107]\n",
      "---> [-0.28    0.1029  1.8138  0.032 ]\n",
      "---> [-0.276   0.2979  1.5945  0.0232]\n",
      "<--- [-0.2702  0.2777  1.2449  0.0169]\n",
      "<--- [-0.2666  0.0826  1.087   0.0633]\n",
      "<--- [-0.2669 -0.1124  1.2141  0.1519]\n",
      "---> [-0.2689 -0.0934  1.469   0.1461]\n",
      "---> [-0.2689  0.101   1.5919  0.0761]\n",
      "<--- [-0.2671  0.0806  1.6559  0.0738]\n",
      "---> [-0.2652  0.1012  1.6283  0.1216]\n",
      "<--- [-0.2634  0.0798  1.6245  0.0922]\n",
      "---> [-0.2616  0.0995  1.6904  0.1074]\n",
      "<--- [-0.2598  0.0799  1.6998  0.1393]\n",
      "---> [-0.2581  0.0984  1.7354  0.1131]\n",
      "---> [-0.2541  0.2937  1.591   0.0829]\n",
      "<--- [-0.2485  0.2727  1.3623  0.0535]\n",
      "<--- [-0.245   0.078   1.3454  0.1553]\n",
      "<--- [-0.2454 -0.1169  1.562   0.2492]\n",
      "---> [-0.2475 -0.0986  1.9442  0.2229]\n",
      "---> [-0.2475  0.0963  2.2097  0.1775]\n",
      "---> [-0.2437  0.2908  2.1322  0.1142]\n",
      "<--- [-0.2381  0.27    1.9935  0.111 ]\n",
      "<--- [-0.2346  0.0754  2.0232  0.2164]\n",
      "---> [-0.2329  0.0948  2.0806  0.2371]\n",
      "---> [-0.2291  0.288   2.0636  0.1306]\n",
      "<--- [-0.2235  0.2682  2.0142  0.1561]\n",
      "<--- [-0.2201  0.0737  2.0477  0.2669]\n",
      "---> [-0.2184  0.0922  2.1782  0.2561]\n",
      "---> [-0.2146  0.2862  2.2309  0.1829]\n",
      "<--- [-0.2091  0.2662  2.1988  0.1983]\n",
      "<--- [-0.2058  0.0711  2.3123  0.2958]\n",
      "total timesteps: 200\n"
     ]
    }
   ],
   "source": [
    "agent.start_state(s)\n",
    "done, r_tot = False, 0\n",
    "while not done:\n",
    "    a = agent.next_action()\n",
    "    s, r, done, _ = env.step(a)\n",
    "    print('--->' if a else '<---', s)\n",
    "    agent.next_reading(s, r, done, False)\n",
    "    r_tot += r\n",
    "print('total timesteps:', r_tot)"
   ]
  },
  {
   "cell_type": "markdown",
   "metadata": {},
   "source": [
    "## Epilogue\n",
    "Try resuming a trained neural network of your own!"
   ]
  },
  {
   "cell_type": "code",
   "execution_count": null,
   "metadata": {},
   "outputs": [],
   "source": []
  }
 ],
 "metadata": {
  "kernelspec": {
   "display_name": "Python 3",
   "language": "python",
   "name": "python3"
  },
  "language_info": {
   "codemirror_mode": {
    "name": "ipython",
    "version": 3
   },
   "file_extension": ".py",
   "mimetype": "text/x-python",
   "name": "python",
   "nbconvert_exporter": "python",
   "pygments_lexer": "ipython3",
   "version": "3.8.6"
  }
 },
 "nbformat": 4,
 "nbformat_minor": 4
}
