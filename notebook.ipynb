{
 "cells": [
  {
   "cell_type": "markdown",
   "metadata": {},
   "source": [
    "# Reinforcement Machine Learning using PyMAPDL: Cartpole Simulation\n",
    "\n",
    "This notebook demonstrates a reinforcement machine learning example using MAPDL through PyMAPDL.\n",
    "\n"
   ]
  },
  {
   "cell_type": "code",
   "execution_count": 1,
   "metadata": {},
   "outputs": [
    {
     "name": "stderr",
     "output_type": "stream",
     "text": [
      "WARNING: pip is using lazily downloaded wheels using HTTP range requests to obtain dependency information. This experimental feature is enabled through --use-feature=fast-deps and it is not ready for production.\n",
      "ERROR: Cannot install pyansys-rl==0.0.1 and tensorflow==2.9.0 because these package versions have conflicting dependencies.\n",
      "ERROR: ResolutionImpossible: for help visit https://pip.pypa.io/en/latest/topics/dependency-resolution/#dealing-with-dependency-conflicts\n",
      "\n",
      "[notice] A new release of pip available: 22.2.2 -> 23.0.1\n",
      "[notice] To update, run: python.exe -m pip install --upgrade pip\n"
     ]
    }
   ],
   "source": [
    "# Installing pyansys packages\n",
    "!pip install ./pyansys_rl ./pyansys_gym -q --use-feature=fast-deps"
   ]
  },
  {
   "cell_type": "code",
   "execution_count": 2,
   "metadata": {},
   "outputs": [],
   "source": [
    "# Loading requires packages\n",
    "import os\n",
    "import sys\n",
    "import numpy as np\n",
    "import matplotlib\n",
    "\n",
    "import gym\n",
    "import pyansys_cartpole\n",
    "\n",
    "np.set_printoptions(precision=4, suppress=True)\n",
    "\n",
    "%matplotlib inline"
   ]
  },
  {
   "cell_type": "markdown",
   "metadata": {},
   "source": [
    "## Background:  Markov Decision Process\n",
    "\n",
    "\n",
    "![Fig 1: Learning agent.](media/MDP_board.jpg \"Fig 1: Learning agent.\")\n",
    "\n",
    "**Fig 1: Learning agent.**\n"
   ]
  },
  {
   "cell_type": "markdown",
   "metadata": {},
   "source": [
    "In a Markov Decision Process we have an agent immersed in an environment.  At any given time, the agent finds itself in a state and it must select one of the available actions.  Upon taking an action, the environment reponds by assigning a reward and transitioning the agent to a successor state.  This loop continues until a terminal state is reached.  It is interesting to ask: could we learn to act optimally in such a setup? could we learn to select sequences of actions that maximize long term cumulative rewards?\n",
    "\n",
    "![Fig 2: Markov Decision Process in Reinforced Learning](media/MDP_loop.jpg \"Fig 2: Markov Decision Process in Reinforced Learning\")\n",
    "\n",
    "**Fig 2: Markov Decision Process in Reinforced Learning**\n"
   ]
  },
  {
   "cell_type": "markdown",
   "metadata": {},
   "source": [
    "## CartPole Simulation\n",
    "\n",
    "The CartPole is a classic control problem.  It is a balancing task: push the cart such that the pinned pole remains upright. In other words, the pole behaves as a solid inverted pendulum and is unstable about the desired configuration.  A simple implementation could use a revolute/hinge joint between the cart and the pole, and a translational joint between the cart and the ground.\n",
    "\n",
    "![Fig 3: Cartpole problem.](media/cartpole_description.jpg \"Fig 3: Cartpole problem.\")\n",
    "\n",
    "**Fig 3: Cartpole problem.**\n",
    "\n"
   ]
  },
  {
   "cell_type": "markdown",
   "metadata": {},
   "source": [
    "### MAPDL in the loop\n",
    "\n",
    "In this implementation of the CartPole as a Markov Decision Process, we highlight the following components:\n",
    "\n",
    "* Actions: push either left ($action = 0$) or right ($action = 1$) \n",
    "* State: $x_{\\text{cart}}, v_{\\text{cart}}, \\theta_{\\text{pole}}, v_{\\text{pole}}$\n",
    "* Reward: +1 for every timestep still in equilibrium\n",
    "* Transition Model: courtesy of an MAPDL structural transient analysis \n",
    "\n",
    "At each episode, the system starts in a randomly seeded state, with positions, velocities and angles picked from a uniform distribution about the vertical/resting position, thus it is unlikely to ever be at equilibrium.  Even if it were, the equilibrium would be unstable. \n",
    "\n",
    "\n",
    "![Fig 4: A single iteration of the CartPole as a Markov Decision Process using MAPDL](media/ANSYS_loop.jpg \"Fig 4: A single iteration of the CartPole as a Markov Decision Process using MAPDL\")\n",
    "\n",
    "**Fig 4: A single iteration of the CartPole as a Markov Decision Process using MAPDL**\n",
    "\n"
   ]
  },
  {
   "cell_type": "markdown",
   "metadata": {},
   "source": [
    "### Instance creation: MAPDL in the loop\n",
    "Create an instance of an MAPDL environment that is specially wrapped for use in [OpenAI Gym](https://gym.openai.com/) thanks to the newly developed python gRPC bindings ([PyAnsys](https://github.com/pyansys)).  The wrapper sets up the CartPole physics, accepts the available actions (i.e. forces), and calculates the state transitions (kinematic response) after every time step (an MAPDL load step).\n",
    "\n",
    "For reference, OpenAI Gym provides its own ad hoc [environment](https://gym.openai.com/envs/CartPole-v1/) for solving the system's [kinematic equations](https://github.com/openai/gym/blob/master/gym/envs/classic_control/cartpole.py)"
   ]
  },
  {
   "cell_type": "code",
   "execution_count": 3,
   "metadata": {},
   "outputs": [
    {
     "name": "stderr",
     "output_type": "stream",
     "text": [
      "d:\\repos\\pyansys\\ml-rl-cartpole2\\.venv\\lib\\site-packages\\gym\\spaces\\box.py:73: UserWarning: \u001b[33mWARN: Box bound precision lowered by casting to float32\u001b[0m\n",
      "  logger.warn(\n"
     ]
    },
    {
     "name": "stdout",
     "output_type": "stream",
     "text": [
      "****************************** Episode: 1 ******************************\n",
      "State: [-0.0037 -0.0441 -0.821   0.    ] \tAction: <--- \tReward:  1\n",
      "State: [-0.0047 -0.1073 -0.2051  0.0346] \tAction: ---> \tReward:  1\n",
      "State: [-0.0067 -0.0874  0.9071  0.0289] \tAction: ---> \tReward:  1\n",
      "State: [-0.0065  0.1076  0.7915  0.0479] \tAction: ---> \tReward:  1\n",
      "State: [-0.0024  0.3031 -1.5615  0.1152] \tAction: ---> \tReward:  1\n",
      "State: [ 0.0057  0.4984 -6.1388  0.1937] \tAction: <--- \tReward:  1\n",
      "State: [  0.0154   0.4794 -11.6242   0.198 ] \tAction: <--- \tReward:  1\n",
      "Episode Reward: 7\n",
      "\n",
      "****************************** Episode: 2 ******************************\n",
      "State: [-0.0443 -0.0487  2.1775  0.    ] \tAction: ---> \tReward:  1\n",
      "State: [-0.0432  0.1071  1.5628  0.0313] \tAction: <--- \tReward:  1\n",
      "State: [-0.0413  0.0869  0.4547  0.0191] \tAction: ---> \tReward:  1\n",
      "State: [-0.0393  0.1062 -0.6528  0.0097] \tAction: <--- \tReward:  1\n",
      "State: [-0.0374  0.0859 -1.7469  0.0057] \tAction: <--- \tReward:  1\n",
      "State: [-0.0377 -0.1093 -1.6138  0.0822] \tAction: ---> \tReward:  1\n",
      "State: [-0.0397 -0.0904 -0.4761  0.0781] \tAction: <--- \tReward:  1\n",
      "State: [-0.0417 -0.1105  0.6761  0.0935] \tAction: <--- \tReward:  1\n",
      "State: [-0.0458 -0.306   3.062   0.1794] \tAction: ---> \tReward:  1\n",
      "State: [-0.0518 -0.2874  6.4511  0.182 ] \tAction: ---> \tReward:  1\n",
      "State: [-0.0556 -0.0931  8.6115  0.133 ] \tAction: <--- \tReward:  1\n",
      "State: [-0.0576 -0.1137  9.781   0.1522] \tAction: <--- \tReward:  1\n",
      "Episode Reward: 12\n",
      "\n"
     ]
    }
   ],
   "source": [
    "# Loading environment\n",
    "env_name = 'pyansys-CartPole-v0'\n",
    "env = gym.make(env_name)\n",
    "\n",
    "# run several episodes (e.g., 3) of the CartPole using a random action, i.e., sometimes 0 (push left), sometimes 1 (push right)\n",
    "n_episodes = 2\n",
    "for i in range(n_episodes):\n",
    "    print('*' * 30, f'Episode: {i+1}', '*' * 30)\n",
    "    cur_state = env.reset()\n",
    "    done, r_tot = False, 0\n",
    "    while not done:\n",
    "        action = np.random.choice([0, 1])\n",
    "        next_state, reward, done, info = env.step(action)\n",
    "        print('State:', cur_state, '\\tAction:', '--->' if action else '<---', '\\tReward: ', reward)\n",
    "        cur_state, r_tot = next_state, r_tot + reward\n",
    "    print('Episode Reward:', r_tot)\n",
    "    print('')"
   ]
  },
  {
   "cell_type": "markdown",
   "metadata": {},
   "source": [
    "The above results express the actions taken by the agent and the correpondent rewards and states."
   ]
  },
  {
   "cell_type": "markdown",
   "metadata": {},
   "source": [
    "## Reinforcement Learning: Deep Q-Network\n",
    "\n",
    "The Deep Q-Network (DQN) implementation is inspired by the famous paper [Mnih et al, 2014](https://www.nature.com/articles/nature14236).\n",
    "\n",
    "The algorithm consists of two neural networks (NN) to accumulate the statistical information about optimal reward sequences. \n",
    "One NN, used for learning, is trained at every step by picking a random sample of experiences (state, action, reward)-tuples from an \"experience buffer\".  \n",
    "The buffer is filled from new experiences (old experiences are retired once the contents exceed capacity) as the agent trains.  \n",
    "At the outset, the buffer is pre-filled with experiences from an agent that behaves at random for a fixed number of steps.  \n",
    "\n",
    "\n",
    "![Fig 5: Learning buffer.](media/DQN_clean.jpg \"Fig 5: Learning buffer.\")\n",
    "\n",
    "**Fig 5: Learning buffer.**\n",
    "\n",
    "\n",
    "The other NN, used for behavior, is just a snapshot of the first refreshed at fixed intervals and dictates what actions to take. \n",
    "\n",
    "### Neural Network Parameters\n",
    "\n",
    "* Neural network size/topology:  [4, 32, 32, 2]\n",
    "    * 4: for each components of the state ($x_{\\text{cart}}, v_{\\text{cart}}, \\theta_{\\text{pole}}, v_{\\text{pole}}$)\n",
    "    * 32: hidden layer 1 with 32 ReLU neurons\n",
    "    * 32: hidden layer 2 with 32 ReLU neurons\n",
    "    * 2: for each possible action with linear neurons [Left, Right]\n",
    "* Neural network refresh rate: every timestep\n",
    "* Buffer capacity: 40K experiences\n",
    "* Buffer warmup: 1K experiences\n",
    "* Sample size: 64 experiences per timestep\n",
    "* $\\varepsilon$: linear decay from 1 to .05 in 1000 timestep (.05 thereafter)\n",
    "* $\\gamma = .99$\n",
    "\n",
    "### Learning Task\n",
    "Try to balance the pole up to 200 steps.  Declare success when the 10-episode average exceeds 196\n",
    "\n",
    "Each learner will display a history of performance per episode, encoded as follows:\n",
    "\n",
    "* e: episode number\n",
    "* n: timesteps \n",
    "* x: max reward thus far\n",
    "* r: reward\n",
    "* v: avg reward (e.g., for last 10 steps)\n",
    "* vx: max average reward\n",
    "* nt: total timesteps thus far"
   ]
  },
  {
   "cell_type": "code",
   "execution_count": 4,
   "metadata": {},
   "outputs": [],
   "source": [
    "# Importing required packages\n",
    "from uuid import uuid4\n",
    "import tempfile\n",
    "import warnings\n",
    "warnings.filterwarnings(\"ignore\")\n",
    "\n",
    "# Importing ML packages\n",
    "from pyansys_dqn import dqn, dqn_runner, qn_keras\n",
    "import tensorflow as tf\n",
    "\n",
    "# For plotting\n",
    "from pyansys_dqn.dqn_runner import LivePlotter"
   ]
  },
  {
   "cell_type": "markdown",
   "metadata": {},
   "source": [
    "### \"Native\" OpenAI environment\n",
    "\n",
    "Here we take practice swings running reinforcement learning on a known open source implementation of the classic control problem.\n",
    "You should see the episode rewards and their running average increase until they arrive at the training objective (196 for 10-episode average):"
   ]
  },
  {
   "cell_type": "code",
   "execution_count": 5,
   "metadata": {},
   "outputs": [
    {
     "name": "stdout",
     "output_type": "stream",
     "text": [
      "Writing model in: C:\\Users\\clatapie\\AppData\\Local\\Temp\\gym_cartpole_results\\d43b847a-01f8-4f83-89a0-15c9305f4883\n"
     ]
    }
   ],
   "source": [
    "# Calling OpenAI Cartpole environment and generating folders for backup.\n",
    "env_name = 'CartPole-v0'\n",
    "tmp_path = tempfile.gettempdir()\n",
    "\n",
    "output_path_gym = os.path.join(tmp_path, 'gym_cartpole_results', str(uuid4())) \n",
    "output_name_gym = 'gym_cartpole_00'\n",
    "\n",
    "if not os.path.exists(output_path_gym):\n",
    "    os.makedirs(output_path_gym)\n",
    "print(f'Writing model in: {output_path_gym}')"
   ]
  },
  {
   "cell_type": "markdown",
   "metadata": {},
   "source": [
    "Now, let's train the agent."
   ]
  },
  {
   "cell_type": "code",
   "execution_count": 6,
   "metadata": {},
   "outputs": [
    {
     "data": {
      "image/png": "[encoded data removed]",
      "text/plain": [
       "<Figure size 640x480 with 1 Axes>"
      ]
     },
     "metadata": {},
     "output_type": "display_data"
    }
   ],
   "source": [
    "gym_plotter = LivePlotter()\n",
    "\n",
    "results = dqn_runner.run(env_name,\n",
    "                         dqn.ClassicDQNLearner,\n",
    "                         qn_keras.QNetwork,\n",
    "                         layers=[64, 64],\n",
    "                         n_episodes=200,\n",
    "                         epsilon=dqn_runner.basic_epsilon_linear(1, 0.05, 1000),\n",
    "                         gamma=0.99,\n",
    "                         n_mini_batch=64,\n",
    "                         replay_db_warmup=1000,\n",
    "                         replay_db_capacity=40000,\n",
    "                         c_cycle=1,\n",
    "                         polyak_rate=0.99,\n",
    "                         averaging_window=10,\n",
    "                         victory_threshold=196,\n",
    "                         diagnostics_fn=gym_plotter.live_plot,\n",
    "                         output_path=output_path_gym,\n",
    "                         output_name=output_name_gym)\n"
   ]
  },
  {
   "cell_type": "markdown",
   "metadata": {},
   "source": [
    "### PyAnsys in OpenAI environment\n",
    "\n",
    "Now we do reinforcement learning with MAPDL in the loop as an OpenAI Gym package, thanks to the PyAnsys API.\n",
    "\n",
    "![Fig 6: A single iteration of the CartPole as a Markov Decision Process using MAPDL in pyansys](media/ANSYS_loop.jpg \"Fig 6: A single iteration of the CartPole as a Markov Decision Process using MAPDL in pyansys\")\n",
    "\n",
    "**Fig 6: A single iteration of the CartPole as a Markov Decision Process using MAPDL in pyansys**\n",
    "\n",
    "In this environment, MAPDL will provide the environment response after solving."
   ]
  },
  {
   "cell_type": "code",
   "execution_count": 7,
   "metadata": {},
   "outputs": [
    {
     "name": "stdout",
     "output_type": "stream",
     "text": [
      "Writing model in: C:\\Users\\clatapie\\AppData\\Local\\Temp\\pyansys_cartpole_results\\b1cd1a4f-a645-441d-a8e3-efb9c08c70fa\n"
     ]
    }
   ],
   "source": [
    "# Calling PyAnsys Cartpole environment and generating folders for backup.\n",
    "import pyansys_cartpole\n",
    "\n",
    "env_name = 'pyansys-CartPole-v0'\n",
    "tmp_path = tempfile.gettempdir()\n",
    "\n",
    "output_path_pyansys = os.path.join(tmp_path, 'pyansys_cartpole_results', str(uuid4())) \n",
    "output_name_pyansys = 'pyansys_cartpole_00'\n",
    "\n",
    "if not os.path.exists(output_path_pyansys):\n",
    "    os.makedirs(output_path_pyansys)\n",
    "print(f'Writing model in: {output_path_pyansys}')"
   ]
  },
  {
   "cell_type": "markdown",
   "metadata": {},
   "source": [
    "We train the learner:"
   ]
  },
  {
   "cell_type": "code",
   "execution_count": 8,
   "metadata": {},
   "outputs": [
    {
     "data": {
      "image/png": "[encoded data removed]",
      "text/plain": [
       "<Figure size 640x480 with 1 Axes>"
      ]
     },
     "metadata": {},
     "output_type": "display_data"
    },
    {
     "name": "stdout",
     "output_type": "stream",
     "text": [
      "1/1 [==============================] - 0s 9ms/step\n",
      "2/2 [==============================] - 0s 993us/step\n",
      "2/2 [==============================] - 0s 2ms/step\n",
      "2/2 [==============================] - 0s 1ms/step\n",
      "1/1 [==============================] - 0s 9ms/step\n",
      "2/2 [==============================] - 0s 2ms/step\n",
      "2/2 [==============================] - 0s 2ms/step\n",
      "2/2 [==============================] - 0s 2ms/step\n",
      "1/1 [==============================] - 0s 9ms/step\n",
      "2/2 [==============================] - 0s 2ms/step\n",
      "2/2 [==============================] - 0s 2ms/step\n",
      "2/2 [==============================] - 0s 2ms/step\n",
      "1/1 [==============================] - 0s 9ms/step\n",
      "2/2 [==============================] - 0s 2ms/step\n",
      "2/2 [==============================] - 0s 1000us/step\n",
      "2/2 [==============================] - 0s 1ms/step\n",
      "1/1 [==============================] - 0s 12ms/step\n",
      "2/2 [==============================] - 0s 992us/step\n",
      "2/2 [==============================] - 0s 1ms/step\n",
      "2/2 [==============================] - 0s 1ms/step\n",
      "1/1 [==============================] - 0s 9ms/step\n",
      "2/2 [==============================] - 0s 1ms/step\n",
      "2/2 [==============================] - 0s 2ms/step\n",
      "2/2 [==============================] - 0s 1ms/step\n",
      "1/1 [==============================] - 0s 8ms/step\n",
      "2/2 [==============================] - 0s 1ms/step\n",
      "2/2 [==============================] - 0s 2ms/step\n",
      "2/2 [==============================] - 0s 2ms/step\n",
      "1/1 [==============================] - 0s 9ms/step\n",
      "2/2 [==============================] - 0s 999us/step\n",
      "2/2 [==============================] - 0s 2ms/step\n",
      "2/2 [==============================] - 0s 2ms/step\n",
      "1/1 [==============================] - 0s 9ms/step\n",
      "2/2 [==============================] - 0s 2ms/step\n",
      "2/2 [==============================] - 0s 2ms/step\n",
      "2/2 [==============================] - 0s 2ms/step\n",
      "1/1 [==============================] - 0s 9ms/step\n",
      "2/2 [==============================] - 0s 2ms/step\n",
      "2/2 [==============================] - 0s 1ms/step\n",
      "2/2 [==============================] - 0s 2ms/step\n",
      "1/1 [==============================] - 0s 9ms/step\n",
      "2/2 [==============================] - 0s 1ms/step\n",
      "2/2 [==============================] - 0s 2ms/step\n",
      "2/2 [==============================] - 0s 999us/step\n",
      "1/1 [==============================] - 0s 10ms/step\n",
      "2/2 [==============================] - 0s 999us/step\n",
      "2/2 [==============================] - 0s 2ms/step\n",
      "2/2 [==============================] - 0s 1ms/step\n",
      "1/1 [==============================] - 0s 9ms/step\n",
      "2/2 [==============================] - 0s 999us/step\n",
      "2/2 [==============================] - 0s 2ms/step\n",
      "2/2 [==============================] - 0s 2ms/step\n",
      "1/1 [==============================] - 0s 10ms/step\n",
      "2/2 [==============================] - 0s 1000us/step\n",
      "2/2 [==============================] - 0s 1ms/step\n",
      "2/2 [==============================] - 0s 2ms/step\n",
      "1/1 [==============================] - 0s 9ms/step\n",
      "2/2 [==============================] - 0s 995us/step\n",
      "2/2 [==============================] - 0s 3ms/step\n",
      "2/2 [==============================] - 0s 2ms/step\n",
      "1/1 [==============================] - 0s 9ms/step\n",
      "2/2 [==============================] - 0s 2ms/step\n",
      "2/2 [==============================] - 0s 1ms/step\n",
      "2/2 [==============================] - 0s 1ms/step\n",
      "1/1 [==============================] - 0s 9ms/step\n",
      "2/2 [==============================] - 0s 1000us/step\n",
      "2/2 [==============================] - 0s 3ms/step\n",
      "2/2 [==============================] - 0s 999us/step\n",
      "1/1 [==============================] - 0s 10ms/step\n",
      "2/2 [==============================] - 0s 2ms/step\n",
      "2/2 [==============================] - 0s 2ms/step\n",
      "2/2 [==============================] - 0s 1ms/step\n",
      "1/1 [==============================] - 0s 10ms/step\n",
      "2/2 [==============================] - 0s 962us/step\n",
      "2/2 [==============================] - 0s 1ms/step\n",
      "2/2 [==============================] - 0s 1ms/step\n",
      "1/1 [==============================] - 0s 9ms/step\n",
      "2/2 [==============================] - 0s 2ms/step\n",
      "2/2 [==============================] - 0s 1ms/step\n",
      "2/2 [==============================] - 0s 2ms/step\n",
      "1/1 [==============================] - 0s 9ms/step\n",
      "2/2 [==============================] - 0s 2ms/step\n",
      "2/2 [==============================] - 0s 2ms/step\n",
      "2/2 [==============================] - 0s 2ms/step\n",
      "1/1 [==============================] - 0s 9ms/step\n",
      "2/2 [==============================] - 0s 2ms/step\n",
      "2/2 [==============================] - 0s 1000us/step\n",
      "2/2 [==============================] - 0s 2ms/step\n",
      "1/1 [==============================] - 0s 10ms/step\n",
      "2/2 [==============================] - 0s 999us/step\n",
      "2/2 [==============================] - 0s 999us/step\n",
      "2/2 [==============================] - 0s 2ms/step\n",
      "1/1 [==============================] - 0s 9ms/step\n",
      "2/2 [==============================] - 0s 1ms/step\n",
      "2/2 [==============================] - 0s 2ms/step\n",
      "2/2 [==============================] - 0s 1ms/step\n",
      "1/1 [==============================] - 0s 10ms/step\n",
      "2/2 [==============================] - 0s 1ms/step\n",
      "2/2 [==============================] - 0s 1000us/step\n",
      "2/2 [==============================] - 0s 2ms/step\n",
      "1/1 [==============================] - 0s 12ms/step\n",
      "2/2 [==============================] - 0s 2ms/step\n",
      "2/2 [==============================] - 0s 2ms/step\n",
      "2/2 [==============================] - 0s 2ms/step\n",
      "2/2 [==============================] - 0s 2ms/step\n",
      "2/2 [==============================] - 0s 1000us/step\n",
      "2/2 [==============================] - 0s 2ms/step\n",
      "1/1 [==============================] - 0s 10ms/step\n",
      "2/2 [==============================] - 0s 983us/step\n",
      "2/2 [==============================] - 0s 2ms/step\n",
      "2/2 [==============================] - 0s 2ms/step\n",
      "1/1 [==============================] - 0s 9ms/step\n",
      "2/2 [==============================] - 0s 2ms/step\n",
      "2/2 [==============================] - 0s 2ms/step\n",
      "2/2 [==============================] - 0s 2ms/step\n",
      "1/1 [==============================] - 0s 9ms/step\n",
      "2/2 [==============================] - 0s 1ms/step\n",
      "2/2 [==============================] - 0s 2ms/step\n",
      "2/2 [==============================] - 0s 2ms/step\n",
      "1/1 [==============================] - 0s 11ms/step\n",
      "2/2 [==============================] - 0s 1ms/step\n",
      "2/2 [==============================] - 0s 1ms/step\n",
      "2/2 [==============================] - 0s 2ms/step\n",
      "1/1 [==============================] - 0s 9ms/step\n",
      "2/2 [==============================] - 0s 2ms/step\n",
      "2/2 [==============================] - 0s 1ms/step\n",
      "2/2 [==============================] - 0s 999us/step\n",
      "1/1 [==============================] - 0s 11ms/step\n",
      "2/2 [==============================] - 0s 2ms/step\n",
      "2/2 [==============================] - 0s 2ms/step\n",
      "2/2 [==============================] - 0s 2ms/step\n",
      "1/1 [==============================] - 0s 11ms/step\n",
      "2/2 [==============================] - 0s 2ms/step\n",
      "2/2 [==============================] - 0s 2ms/step\n",
      "2/2 [==============================] - 0s 2ms/step\n",
      "1/1 [==============================] - 0s 11ms/step\n",
      "2/2 [==============================] - 0s 998us/step\n",
      "2/2 [==============================] - 0s 2ms/step\n",
      "2/2 [==============================] - 0s 1ms/step\n",
      "1/1 [==============================] - 0s 10ms/step\n",
      "2/2 [==============================] - 0s 2ms/step\n",
      "2/2 [==============================] - 0s 1ms/step\n",
      "2/2 [==============================] - 0s 1ms/step\n",
      "1/1 [==============================] - 0s 9ms/step\n",
      "2/2 [==============================] - 0s 1ms/step\n",
      "2/2 [==============================] - 0s 1000us/step\n",
      "2/2 [==============================] - 0s 2ms/step\n",
      "1/1 [==============================] - 0s 11ms/step\n",
      "2/2 [==============================] - 0s 1ms/step\n",
      "2/2 [==============================] - 0s 2ms/step\n",
      "2/2 [==============================] - 0s 1000us/step\n",
      "1/1 [==============================] - 0s 10ms/step\n",
      "2/2 [==============================] - 0s 2ms/step\n",
      "2/2 [==============================] - 0s 2ms/step\n",
      "2/2 [==============================] - 0s 2ms/step\n",
      "1/1 [==============================] - 0s 9ms/step\n"
     ]
    }
   ],
   "source": [
    "pyansys_plotter = LivePlotter()\n",
    "\n",
    "results2 = dqn_runner.run(env_name,\n",
    "                         dqn.ClassicDQNLearner,\n",
    "                         qn_keras.QNetwork,\n",
    "                         layers=[32, 32],\n",
    "                         n_episodes=5000,\n",
    "                         epsilon=dqn_runner.basic_epsilon_linear(1, 0.05, 1000),\n",
    "                         gamma=0.99,\n",
    "                         n_mini_batch=64,\n",
    "                         replay_db_warmup=1000,\n",
    "                         replay_db_capacity=40000,\n",
    "                         c_cycle=1,\n",
    "                         polyak_rate=0.99,\n",
    "                         averaging_window=10,\n",
    "                         victory_threshold=196,\n",
    "                         diagnostics_fn=pyansys_plotter.live_plot,\n",
    "                         output_path=output_path_pyansys,\n",
    "                         output_name=output_name_pyansys)"
   ]
  },
  {
   "cell_type": "markdown",
   "metadata": {},
   "source": [
    "The learner is trained successfully."
   ]
  },
  {
   "cell_type": "markdown",
   "metadata": {},
   "source": [
    "### Random Agent\n",
    "For comparison, here we create a simple test agent that behaves randomly and thus is not likely to succeed at the balancing task."
   ]
  },
  {
   "cell_type": "code",
   "execution_count": null,
   "metadata": {},
   "outputs": [],
   "source": [
    "# Importing required packages\n",
    "from pyansys_dqn.test_agents import RandomAgent, TrainedAgent\n",
    "\n",
    "env_name = 'pyansys-CartPole-v0'\n",
    "env = gym.make(env_name)\n",
    "\n",
    "agent = RandomAgent(env.action_space.n)\n",
    "\n",
    "s = env.reset()\n",
    "\n",
    "labels = [\"Cart position\", \"Cart velocity\", \"Theta angle\", \"Pole velocity\"]\n",
    "\n",
    "print(\" - \".join([each.center(20) for each in labels]))\n",
    "print(\" - \".join([ f\"{each:6.3}\".center(20) for each in s]))\n"
   ]
  },
  {
   "cell_type": "markdown",
   "metadata": {},
   "source": [
    "Below, notice how we inform the agent about each state transition with `agent.start_state(s)` or `agent.next_reading(s, r, done)` and then ask it to recommend an action with `agent.next_action()`.  We inform the environment this recommendation by feeding the method `env.step(a)`.  We do not expect these recommendations to be good because this agent selects at random from the choices 'left' and 'right', with equal probability.  A control algorithm that just flips a coin to select how to behave is usually not effective.  Thus, the pole should not stay balanced for long."
   ]
  },
  {
   "cell_type": "code",
   "execution_count": null,
   "metadata": {},
   "outputs": [],
   "source": [
    "agent.start_state(s)\n",
    "done, r_tot = False, 0\n",
    "\n",
    "print(\"Action - \" + \" - \".join([each.center(20) for each in labels]))\n",
    "\n",
    "while not done:\n",
    "    a = agent.next_action()\n",
    "    s, r, done, _ = env.step(a)\n",
    "    agent.next_reading(s, r, done, False)\n",
    "    print('--->' if a else '<--- ', ' - ', \" - \".join([ f\"{each:6.3}\".center(20) for each in s]))\n",
    "    r_tot += r\n",
    "\n",
    "print('\\nTotal timesteps:', r_tot+1)\n",
    "print(f'Final theta angle: {s[2]:4.2f} degrees')"
   ]
  },
  {
   "cell_type": "markdown",
   "metadata": {},
   "source": [
    "As we see the theta in the last reported state (last row, third column), theta exceed the 12 degrees maximum, hence the simulation is stopped."
   ]
  },
  {
   "cell_type": "markdown",
   "metadata": {},
   "source": [
    "## Reusing trained agent\n",
    "\n",
    "Now we create an agent that has been trained, i.e., that refers to a successful neural networks in order to decide how best to act. It is thus much more likely to perform well and balance the pole for a noticeably greater number of steps... all this despite having a random starting point for the system!"
   ]
  },
  {
   "cell_type": "code",
   "execution_count": null,
   "metadata": {},
   "outputs": [],
   "source": [
    "n_actions = 2\n",
    "agent = TrainedAgent(output_path_pyansys, output_name_pyansys, env.action_space.n, env.observation_space.shape)\n",
    "\n",
    "s = env.reset()\n",
    "print(\" - \".join([each.center(20) for each in labels]))\n",
    "print(\" - \".join([ f\"{each:6.3}\".center(20) for each in s]))"
   ]
  },
  {
   "cell_type": "markdown",
   "metadata": {},
   "source": [
    "Below, notice how we inform the agent about each state transition with `agent.start_state(s)` or `agent.next_reading(s, r, done)` and then ask it to recommend an action with `agent.next_action()`.  We follow its recommendation by feeding it into the environment in `env.step(a)`.  The recommendations should be pretty good because they stem from neural networks that store the information resulting from successful training and the pole should stay up longer, hopefully for the entirety of the episode (200 steps). "
   ]
  },
  {
   "cell_type": "code",
   "execution_count": null,
   "metadata": {},
   "outputs": [],
   "source": [
    "agent.start_state(s)\n",
    "done, r_tot = False, 0\n",
    "\n",
    "# print(\"Action - \" + \" - \".join([each.center(20) for each in labels])) # Uncomment to print each step\n",
    "\n",
    "while not done:\n",
    "    a = agent.next_action()\n",
    "    s, r, done, _ = env.step(a)\n",
    "    agent.next_reading(s, r, done, False)\n",
    "    # print('---> ' if a else '<--- ', ' - ', \" - \".join([ f\"{each:6.3}\".center(20) for each in s])) # Uncomment to print each step\n",
    "    r_tot += r\n",
    "\n",
    "print(\" - \".join([each.center(20) for each in labels]))\n",
    "print(\" - \".join([ f\"{each:6.3}\".center(20) for each in s]))\n",
    "print('\\nTotal timesteps:', r_tot+1)\n",
    "print(f'Final theta angle: {s[2]:4.2f} degrees')"
   ]
  },
  {
   "cell_type": "markdown",
   "metadata": {},
   "source": [
    "We are just printing the last time step"
   ]
  },
  {
   "cell_type": "markdown",
   "metadata": {},
   "source": [
    "## Epilogue\n",
    "Try resuming a trained neural network of your own!"
   ]
  },
  {
   "cell_type": "markdown",
   "metadata": {},
   "source": [
    "## References\n",
    "\n",
    "- The DQN Agent - TensofFlow.org - https://www.tensorflow.org/agents/tutorials/0_intro_rl#the_dqn_agent\n",
    "- Human-level control through deep reinforcement learning - V Mnih et al.  - https://www.nature.com/articles/nature14236\n"
   ]
  },
  {
   "cell_type": "markdown",
   "metadata": {},
   "source": []
  }
 ],
 "metadata": {
  "kernelspec": {
   "display_name": ".venv",
   "language": "python",
   "name": "python3"
  },
  "language_info": {
   "codemirror_mode": {
    "name": "ipython",
    "version": 3
   },
   "file_extension": ".py",
   "mimetype": "text/x-python",
   "name": "python",
   "nbconvert_exporter": "python",
   "pygments_lexer": "ipython3",
   "version": "3.10.8"
  },
  "vscode": {
   "interpreter": {
    "hash": "54a19341f0d6d03ca1bcd77258f30e72e922e86e8e72247602d005d04be9c2b1"
   }
  }
 },
 "nbformat": 4,
 "nbformat_minor": 4
}
